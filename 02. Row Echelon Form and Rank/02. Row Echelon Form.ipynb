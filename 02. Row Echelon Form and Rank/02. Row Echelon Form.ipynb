{
 "cells": [
  {
   "cell_type": "code",
   "execution_count": 1,
   "metadata": {},
   "outputs": [],
   "source": [
    "import numpy as np"
   ]
  },
  {
   "cell_type": "code",
   "execution_count": 5,
   "metadata": {},
   "outputs": [],
   "source": [
    "def swap_rows(M, row_index_1, row_index_2):\n",
    "\n",
    "    # Copy matrix M so the changes do not affect the original matrix. \n",
    "    M = M.copy()\n",
    "    # Swap indexes\n",
    "    M[[row_index_1, row_index_2]] = M[[row_index_2, row_index_1]]\n",
    "    return M"
   ]
  },
  {
   "cell_type": "code",
   "execution_count": 3,
   "metadata": {},
   "outputs": [],
   "source": [
    "def get_index_first_non_zero_value_from_column(M, column, starting_row):\n",
    "   \n",
    "    # Get the column array starting from the specified row\n",
    "    column_array = M[starting_row:,column]\n",
    "    for i, val in enumerate(column_array):\n",
    "        # Iterate over every value in the column array. \n",
    "        # To check for non-zero values, you must always use np.isclose instead of doing \"val == 0\".\n",
    "        if not np.isclose(val, 0, atol = 1e-5):\n",
    "            # If one non zero value is found, then adjust the index to match the correct index in the matrix and return it.\n",
    "            index = i + starting_row\n",
    "            return index\n",
    "    # If no non-zero value is found below it, return -1.\n",
    "    return -1"
   ]
  },
  {
   "cell_type": "code",
   "execution_count": 4,
   "metadata": {},
   "outputs": [],
   "source": [
    "def get_index_first_non_zero_value_from_row(M, row, augmented = False):\n",
    "  \n",
    "    # Create a copy to avoid modifying the original matrix\n",
    "    M = M.copy()\n",
    "\n",
    "\n",
    "    # If it is an augmented matrix, then ignore the constant values\n",
    "    if augmented == True:\n",
    "        # Isolating the coefficient matrix (removing the constant terms)\n",
    "        M = M[:,:-1]\n",
    "        \n",
    "    # Get the desired row\n",
    "    row_array = M[row]\n",
    "    for i, val in enumerate(row_array):\n",
    "        # If finds a non zero value, returns the index. Otherwise returns -1.\n",
    "        if not np.isclose(val, 0, atol = 1e-5):\n",
    "            return i\n",
    "    return -1"
   ]
  },
  {
   "cell_type": "code",
   "execution_count": 2,
   "metadata": {},
   "outputs": [],
   "source": [
    "def augmented_matrix(A, B):\n",
    "\n",
    "    augmented_M = np.hstack((A,B))\n",
    "    return augmented_M"
   ]
  },
  {
   "cell_type": "code",
   "execution_count": 7,
   "metadata": {},
   "outputs": [],
   "source": [
    "\n",
    "def row_echelon_form(A, B):\n",
    "\n",
    "    det_A = np.linalg.det(A)\n",
    "\n",
    "    # Returns \"Singular system\" if determinant is zero\n",
    "    if np.isclose(det_A, 0) == True:\n",
    "        return 'Singular system'\n",
    "\n",
    "    # Make copies of the input matrices to avoid modifying the originals\n",
    "    A = A.copy()\n",
    "    B = B.copy()\n",
    "\n",
    "\n",
    "    # Convert matrices to float to prevent integer division\n",
    "    A = A.astype('float64')\n",
    "    B = B.astype('float64')\n",
    "\n",
    "    # Number of rows in the coefficient matrix\n",
    "    num_rows = len(A) \n",
    "\n",
    "\n",
    "    # Transform matrices A and B into the augmented matrix M\n",
    "    M = augmented_matrix(A,B)\n",
    "    \n",
    "    # Iterate over the rows.\n",
    "    for row in range(num_rows):\n",
    "\n",
    "        # The first pivot candidate is always in the main diagonal, let's get it. \n",
    "        # Remember that the diagonal elements in a matrix has the same index for row and column. \n",
    "        # You may access a matrix value by typing M[row, column]. In this case, column = None\n",
    "        pivot_candidate = M[row, row]\n",
    "\n",
    "        # If pivot_candidate is zero, it cannot be a pivot for this row. \n",
    "        # So the first step you need to take is to look at the rows below it to check if there is a non-zero element in the same column.\n",
    "        # The usage of np.isclose is a good practice when comparing two floats.\n",
    "        if np.isclose(pivot_candidate, 0) == True: \n",
    "            # Get the index of the first non-zero value below the pivot_candidate. \n",
    "            first_non_zero_value_below_pivot_candidate = get_index_first_non_zero_value_from_column(M, row, row) \n",
    "\n",
    "            # Swap rows\n",
    "            M = swap_rows(M, row, first_non_zero_value_below_pivot_candidate) \n",
    "\n",
    "            # Get the pivot, which is in the main diagonal now \n",
    "            pivot = M[row,row] \n",
    "        \n",
    "        # If pivot_candidate is already non-zero, then it is the pivot for this row\n",
    "        else:\n",
    "            pivot = pivot_candidate \n",
    "        \n",
    "        # Now you are ready to apply the row reduction in every row below the current\n",
    "            \n",
    "        # Divide the current row by the pivot, so the new pivot will be 1. You may use the formula current_row -> 1/pivot * current_row\n",
    "        # Where current_row can be accessed using M[row].\n",
    "        M[row] = (1/pivot) * M[row]\n",
    "\n",
    "        # Perform row reduction for rows below the current row\n",
    "        for j in range(row + 1, num_rows): \n",
    "            # Get the value in the row that is below the pivot value. \n",
    "            # Remember that, since you are dealing only with non-singular matrices, the pivot is in the main diagonal.\n",
    "            # Therefore, the values in row j that are below the pivot, must have column index the same index as the column index for the pivot.\n",
    "            value_below_pivot = M[j,row]\n",
    "            \n",
    "            # Perform row reduction using the formula:\n",
    "            # row_to_reduce -> row_to_reduce - value_below_pivot * pivot_row\n",
    "            M[j] = M[j] - value_below_pivot*M[row]\n",
    "            \n",
    "\n",
    "    return M\n",
    "            "
   ]
  },
  {
   "cell_type": "code",
   "execution_count": 8,
   "metadata": {},
   "outputs": [
    {
     "data": {
      "text/plain": [
       "array([[1. , 2. , 3. , 1. ],\n",
       "       [0. , 1. , 0. , 2. ],\n",
       "       [0. , 0. , 1. , 0.8]])"
      ]
     },
     "execution_count": 8,
     "metadata": {},
     "output_type": "execute_result"
    }
   ],
   "source": [
    "A = np.array([[1,2,3],[0,1,0], [0,0,5]])\n",
    "B = np.array([[1], [2], [4]])\n",
    "\n",
    "row_echelon_form(A,B)\n"
   ]
  }
 ],
 "metadata": {
  "kernelspec": {
   "display_name": "conda",
   "language": "python",
   "name": "python3"
  },
  "language_info": {
   "codemirror_mode": {
    "name": "ipython",
    "version": 3
   },
   "file_extension": ".py",
   "mimetype": "text/x-python",
   "name": "python",
   "nbconvert_exporter": "python",
   "pygments_lexer": "ipython3",
   "version": "3.12.4"
  }
 },
 "nbformat": 4,
 "nbformat_minor": 2
}
