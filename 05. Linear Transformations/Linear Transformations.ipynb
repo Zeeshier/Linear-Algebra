{
 "cells": [
  {
   "cell_type": "markdown",
   "metadata": {},
   "source": [
    "# Linear Transformation"
   ]
  },
  {
   "cell_type": "code",
   "execution_count": 1,
   "metadata": {},
   "outputs": [],
   "source": [
    "import numpy as np\n",
    "import cv2"
   ]
  },
  {
   "cell_type": "markdown",
   "metadata": {},
   "source": [
    "## 1 - Transformations"
   ]
  },
  {
   "cell_type": "code",
   "execution_count": 2,
   "metadata": {},
   "outputs": [
    {
     "name": "stdout",
     "output_type": "stream",
     "text": [
      "Original vector:\n",
      " [[3]\n",
      " [5]] \n",
      "\n",
      " Result of the transformation:\n",
      " [[  9.]\n",
      " [  0.]\n",
      " [-10.]]\n"
     ]
    }
   ],
   "source": [
    "def T(v):\n",
    "    w = np.zeros((3,1))\n",
    "    w[0,0] = 3*v[0,0]\n",
    "    w[2,0] = -2*v[1,0]\n",
    "    \n",
    "    return w\n",
    "\n",
    "v = np.array([[3], [5]])\n",
    "w = T(v)\n",
    "\n",
    "print(\"Original vector:\\n\", v, \"\\n\\n Result of the transformation:\\n\", w)"
   ]
  }
 ],
 "metadata": {
  "kernelspec": {
   "display_name": "conda",
   "language": "python",
   "name": "python3"
  },
  "language_info": {
   "codemirror_mode": {
    "name": "ipython",
    "version": 3
   },
   "file_extension": ".py",
   "mimetype": "text/x-python",
   "name": "python",
   "nbconvert_exporter": "python",
   "pygments_lexer": "ipython3",
   "version": "3.12.4"
  }
 },
 "nbformat": 4,
 "nbformat_minor": 2
}
