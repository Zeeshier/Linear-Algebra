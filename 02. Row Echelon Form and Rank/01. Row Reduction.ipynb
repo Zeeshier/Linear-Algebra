{
 "cells": [
  {
   "cell_type": "markdown",
   "metadata": {},
   "source": [
    "# Solving System of Linear Equations using Row Reduction"
   ]
  },
  {
   "cell_type": "code",
   "execution_count": 2,
   "metadata": {},
   "outputs": [],
   "source": [
    "import numpy as np"
   ]
  },
  {
   "cell_type": "markdown",
   "metadata": {},
   "source": [
    "### Preparation for Row Reduction"
   ]
  },
  {
   "cell_type": "code",
   "execution_count": 3,
   "metadata": {},
   "outputs": [],
   "source": [
    "A = np.array([\n",
    "        [2, -1, 4],\n",
    "        [4, 6, 7],\n",
    "        [-1, 2, -3]\n",
    "    ], dtype=np.dtype(float))\n",
    "\n",
    "b = np.array([-5, 2, 15], dtype=np.dtype(float))"
   ]
  },
  {
   "cell_type": "code",
   "execution_count": 4,
   "metadata": {},
   "outputs": [
    {
     "name": "stdout",
     "output_type": "stream",
     "text": [
      "[[ 2. -1.  4. -5.]\n",
      " [ 4.  6.  7.  2.]\n",
      " [-1.  2. -3. 15.]]\n"
     ]
    }
   ],
   "source": [
    "A_system = np.hstack((A, b.reshape((3, 1))))\n",
    "\n",
    "print(A_system)"
   ]
  },
  {
   "cell_type": "markdown",
   "metadata": {},
   "source": [
    "### Elementary Operations"
   ]
  },
  {
   "cell_type": "code",
   "execution_count": 5,
   "metadata": {},
   "outputs": [
    {
     "name": "stdout",
     "output_type": "stream",
     "text": [
      "Original matrix:\n",
      "[[ 2. -1.  4. -5.]\n",
      " [ 4.  6.  7.  2.]\n",
      " [-1.  2. -3. 15.]]\n",
      "\n",
      "Matrix after its second row is multiplied by 3:\n",
      "[[ 2. -1.  4. -5.]\n",
      " [12. 18. 21.  6.]\n",
      " [-1.  2. -3. 15.]]\n"
     ]
    }
   ],
   "source": [
    "def MultiplyRow(M, row_num, row_num_multiple):\n",
    "    M_new = M.copy()\n",
    "    M_new[row_num] = M_new[row_num] * row_num_multiple\n",
    "    return M_new\n",
    "\n",
    "print(\"Original matrix:\")\n",
    "print(A_system)\n",
    "print(\"\\nMatrix after its second row is multiplied by 3:\")\n",
    "print(MultiplyRow(A_system,1,3))"
   ]
  },
  {
   "cell_type": "code",
   "execution_count": 6,
   "metadata": {},
   "outputs": [
    {
     "name": "stdout",
     "output_type": "stream",
     "text": [
      "Original matrix:\n",
      "[[ 2. -1.  4. -5.]\n",
      " [ 4.  6.  7.  2.]\n",
      " [-1.  2. -3. 15.]]\n",
      "\n",
      "Matrix after exchange of the third row with the sum of itself and second row multiplied by 1/2:\n",
      "[[ 2.  -1.   4.  -5. ]\n",
      " [ 4.   6.   7.   2. ]\n",
      " [ 1.   5.   0.5 16. ]]\n"
     ]
    }
   ],
   "source": [
    "def AddRows(M, row_num_1, row_num_2, row_num_1_multiple):\n",
    "    M_new = M.copy()\n",
    "    M_new[row_num_2] = row_num_1_multiple * M_new[row_num_1] + M_new[row_num_2]\n",
    "    return M_new\n",
    "\n",
    "print(\"Original matrix:\")\n",
    "print(A_system)\n",
    "print(\"\\nMatrix after exchange of the third row with the sum of itself and second row multiplied by 1/2:\")\n",
    "print(AddRows(A_system,1,2,1/2))"
   ]
  },
  {
   "cell_type": "code",
   "execution_count": 7,
   "metadata": {},
   "outputs": [
    {
     "name": "stdout",
     "output_type": "stream",
     "text": [
      "Original matrix:\n",
      "[[ 2. -1.  4. -5.]\n",
      " [ 4.  6.  7.  2.]\n",
      " [-1.  2. -3. 15.]]\n",
      "\n",
      "Matrix after exchange its first and third rows:\n",
      "[[-1.  2. -3. 15.]\n",
      " [ 4.  6.  7.  2.]\n",
      " [ 2. -1.  4. -5.]]\n"
     ]
    }
   ],
   "source": [
    "def SwapRows(M, row_num_1, row_num_2):\n",
    "    M_new = M.copy()\n",
    "    M_new[[row_num_1, row_num_2]] = M_new[[row_num_2, row_num_1]]\n",
    "    return M_new\n",
    "\n",
    "print(\"Original matrix:\")\n",
    "print(A_system)\n",
    "print(\"\\nMatrix after exchange its first and third rows:\")\n",
    "print(SwapRows(A_system,0,2))"
   ]
  }
 ],
 "metadata": {
  "kernelspec": {
   "display_name": "conda",
   "language": "python",
   "name": "python3"
  },
  "language_info": {
   "codemirror_mode": {
    "name": "ipython",
    "version": 3
   },
   "file_extension": ".py",
   "mimetype": "text/x-python",
   "name": "python",
   "nbconvert_exporter": "python",
   "pygments_lexer": "ipython3",
   "version": "3.12.4"
  }
 },
 "nbformat": 4,
 "nbformat_minor": 2
}
